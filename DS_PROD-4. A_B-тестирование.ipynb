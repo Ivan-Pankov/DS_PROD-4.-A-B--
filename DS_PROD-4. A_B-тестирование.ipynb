{
 "cells": [
  {
   "cell_type": "markdown",
   "id": "c8a6af25-08d3-487a-bd90-001772ac9161",
   "metadata": {},
   "source": [
    "## <center> **Анализ результатов A/B-тестирования**"
   ]
  },
  {
   "cell_type": "markdown",
   "id": "af50ed31",
   "metadata": {},
   "source": [
    "Компания планирует запустить новую акцию, чтобы продать как можно больше туров. Команда разработала два варианта посадочной страницы официального сайта компании и провела A/B-тестирование.\n",
    "\n",
    "В результате эксперимента - были собраны данные.\n",
    "\n",
    "Вам предстоит решить настоящую бизнес-задачу: проанализировать эффективность обоих вариантов посадочной страницы сразу по двум критериям: **конверсии покупки и среднему чеку.** \n",
    "\n",
    "На основе проведенного анализа вам будет необходимо сделать выводы и принять решение: **какой из вариантов дизайна более предпочтительный.**\n",
    "\n",
    "#### Итак, наша фирма предлагает следующие варианты туров и их соответствующие стоимости:\n",
    "* Таиланд — 100000 рублей;\n",
    "* Турция — 60000 рублей;\n",
    "* Мальдивы — 200000 рублей;\n",
    "* Санкт-Петербург — 10000 рублей;\n",
    "* Камчатка — 150000 рублей."
   ]
  },
  {
   "cell_type": "code",
   "execution_count": 1,
   "id": "a974b482-e192-4014-8520-8a5c0c946da6",
   "metadata": {},
   "outputs": [],
   "source": [
    "import pandas as pd\n",
    "import numpy as np\n",
    "import matplotlib.pyplot as plt\n",
    "import seaborn as sns\n",
    "from scipy.stats import norm\n",
    "from scipy.stats import t\n",
    "from scipy.stats import ttest_ind, shapiro, f_oneway, mannwhitneyu\n",
    "from statsmodels.stats.proportion import proportions_ztest"
   ]
  },
  {
   "cell_type": "markdown",
   "id": "55c84550-4162-4325-acc2-7d3c0aafe6f0",
   "metadata": {},
   "source": [
    "Прочитаем наши данные и посмотрим на столбцы таблицы:"
   ]
  },
  {
   "cell_type": "code",
   "execution_count": 2,
   "id": "b0d18245-b9da-44bd-8aea-d272ea74b63a",
   "metadata": {},
   "outputs": [
    {
     "data": {
      "text/html": [
       "<div>\n",
       "<style scoped>\n",
       "    .dataframe tbody tr th:only-of-type {\n",
       "        vertical-align: middle;\n",
       "    }\n",
       "\n",
       "    .dataframe tbody tr th {\n",
       "        vertical-align: top;\n",
       "    }\n",
       "\n",
       "    .dataframe thead th {\n",
       "        text-align: right;\n",
       "    }\n",
       "</style>\n",
       "<table border=\"1\" class=\"dataframe\">\n",
       "  <thead>\n",
       "    <tr style=\"text-align: right;\">\n",
       "      <th></th>\n",
       "      <th>user_id</th>\n",
       "      <th>date</th>\n",
       "      <th>group</th>\n",
       "      <th>purchase</th>\n",
       "      <th>price</th>\n",
       "    </tr>\n",
       "  </thead>\n",
       "  <tbody>\n",
       "    <tr>\n",
       "      <th>0</th>\n",
       "      <td>851104</td>\n",
       "      <td>2021-01-21</td>\n",
       "      <td>A</td>\n",
       "      <td>0</td>\n",
       "      <td>0</td>\n",
       "    </tr>\n",
       "    <tr>\n",
       "      <th>1</th>\n",
       "      <td>804228</td>\n",
       "      <td>2021-01-12</td>\n",
       "      <td>A</td>\n",
       "      <td>0</td>\n",
       "      <td>0</td>\n",
       "    </tr>\n",
       "    <tr>\n",
       "      <th>2</th>\n",
       "      <td>661590</td>\n",
       "      <td>2021-01-11</td>\n",
       "      <td>B</td>\n",
       "      <td>0</td>\n",
       "      <td>0</td>\n",
       "    </tr>\n",
       "    <tr>\n",
       "      <th>3</th>\n",
       "      <td>853541</td>\n",
       "      <td>2021-01-08</td>\n",
       "      <td>B</td>\n",
       "      <td>0</td>\n",
       "      <td>0</td>\n",
       "    </tr>\n",
       "    <tr>\n",
       "      <th>4</th>\n",
       "      <td>864975</td>\n",
       "      <td>2021-01-21</td>\n",
       "      <td>A</td>\n",
       "      <td>1</td>\n",
       "      <td>150000</td>\n",
       "    </tr>\n",
       "  </tbody>\n",
       "</table>\n",
       "</div>"
      ],
      "text/plain": [
       "   user_id        date group  purchase   price\n",
       "0   851104  2021-01-21     A         0       0\n",
       "1   804228  2021-01-12     A         0       0\n",
       "2   661590  2021-01-11     B         0       0\n",
       "3   853541  2021-01-08     B         0       0\n",
       "4   864975  2021-01-21     A         1  150000"
      ]
     },
     "execution_count": 2,
     "metadata": {},
     "output_type": "execute_result"
    }
   ],
   "source": [
    "data = pd.read_csv('data/ab_data_tourist.csv')\n",
    "data.head()"
   ]
  },
  {
   "cell_type": "markdown",
   "id": "4a773863",
   "metadata": {},
   "source": [
    "#### Tаблица представлена следующими полями:\n",
    "\n",
    "* user_id — идентификатор пользователя, зашедшего на сайт;\n",
    "* data — дата посещения сайта;\n",
    "* group — группа теста (контрольная — А или тестовая — B);\n",
    "* purchase — признак покупки: совершил ли пользователь покупку тура (1 — да, 0 — нет);\n",
    "* price — цена купленного тура (если покупка не состоялась, цена равна 0)."
   ]
  },
  {
   "cell_type": "markdown",
   "id": "24038955",
   "metadata": {
    "tags": []
   },
   "source": [
    "### Проанализируем структуру данных и проведём их предобработку:\n",
    "\n",
    "* исследуем структуру данных;\n",
    "* преобразуем столбцы к необходимым типам данных.\n",
    "* Убедимся в одинаковой длительности проведения A/B-тестирования в каждой из групп. Если длительность разная, унифицируем данные, удалив лишние данные для соответствующей группы.\n",
    "* Проверим данные на наличие пропусков и избавимся от них, если нужно.\n",
    "* Проверим, есть ли пользователи, которые в процессе A/B-теста попали в обе группы. Если да, исключим пользователей, оказавшихся в обеих группах.\n",
    "\n",
    "Начнем с исследования структуры наших данных. С помощью метода info() выведите информацию о типах данных и количестве непустых значений. Какой тип данных имеет столбец date?"
   ]
  },
  {
   "cell_type": "code",
   "execution_count": 3,
   "id": "5356b661",
   "metadata": {},
   "outputs": [
    {
     "name": "stdout",
     "output_type": "stream",
     "text": [
      "<class 'pandas.core.frame.DataFrame'>\n",
      "RangeIndex: 294478 entries, 0 to 294477\n",
      "Data columns (total 5 columns):\n",
      " #   Column    Non-Null Count   Dtype \n",
      "---  ------    --------------   ----- \n",
      " 0   user_id   294478 non-null  int64 \n",
      " 1   date      294478 non-null  object\n",
      " 2   group     294478 non-null  object\n",
      " 3   purchase  294478 non-null  int64 \n",
      " 4   price     294478 non-null  int64 \n",
      "dtypes: int64(3), object(2)\n",
      "memory usage: 11.2+ MB\n"
     ]
    }
   ],
   "source": [
    "data.info()"
   ]
  },
  {
   "cell_type": "markdown",
   "id": "254708ab",
   "metadata": {
    "tags": []
   },
   "source": [
    "Приведём столбец **date** - к типу данных - **datetime.** \n",
    "\n",
    "Убедимся в равной длительности проведения тестирования для каждой из группы. \n",
    "\n",
    "Для этого сгруппируем данные по признаку группы и определим первую и последнюю дату наблюдения для каждой из групп. \n",
    "\n",
    "В какой промежуток времени проводился **A/B-тест?**."
   ]
  },
  {
   "cell_type": "code",
   "execution_count": 4,
   "id": "604c619d-6338-45c8-8248-ac098a2366bb",
   "metadata": {},
   "outputs": [
    {
     "data": {
      "text/html": [
       "<div>\n",
       "<style scoped>\n",
       "    .dataframe tbody tr th:only-of-type {\n",
       "        vertical-align: middle;\n",
       "    }\n",
       "\n",
       "    .dataframe tbody tr th {\n",
       "        vertical-align: top;\n",
       "    }\n",
       "\n",
       "    .dataframe thead th {\n",
       "        text-align: right;\n",
       "    }\n",
       "</style>\n",
       "<table border=\"1\" class=\"dataframe\">\n",
       "  <thead>\n",
       "    <tr style=\"text-align: right;\">\n",
       "      <th></th>\n",
       "      <th>min</th>\n",
       "      <th>max</th>\n",
       "    </tr>\n",
       "    <tr>\n",
       "      <th>group</th>\n",
       "      <th></th>\n",
       "      <th></th>\n",
       "    </tr>\n",
       "  </thead>\n",
       "  <tbody>\n",
       "    <tr>\n",
       "      <th>A</th>\n",
       "      <td>2021-01-02</td>\n",
       "      <td>2021-01-24</td>\n",
       "    </tr>\n",
       "    <tr>\n",
       "      <th>B</th>\n",
       "      <td>2021-01-02</td>\n",
       "      <td>2021-01-24</td>\n",
       "    </tr>\n",
       "  </tbody>\n",
       "</table>\n",
       "</div>"
      ],
      "text/plain": [
       "             min        max\n",
       "group                      \n",
       "A     2021-01-02 2021-01-24\n",
       "B     2021-01-02 2021-01-24"
      ]
     },
     "execution_count": 4,
     "metadata": {},
     "output_type": "execute_result"
    }
   ],
   "source": [
    "data['date'] = pd.to_datetime(data['date'])\n",
    "data.groupby('group')['date'].agg(['min', 'max'])"
   ]
  },
  {
   "cell_type": "markdown",
   "id": "1361d052",
   "metadata": {},
   "source": [
    "* Чему равно количество посещений сайта в группах А и B?\n",
    "\n",
    "* Чему равно суммарное количество покупок в группах А и B?\n",
    "\n",
    "* Чему равна сумма всех покупок в группах А и B? \n",
    "\n",
    "Ответ приведим в миллионах рублей. Например, 185.52 млн. руб."
   ]
  },
  {
   "cell_type": "code",
   "execution_count": 5,
   "id": "02bf0148-488e-4f34-95bf-37794b2fa98b",
   "metadata": {},
   "outputs": [
    {
     "name": "stdout",
     "output_type": "stream",
     "text": [
      "Количество посещений сайта в группах А и B:\n"
     ]
    },
    {
     "data": {
      "text/plain": [
       "group\n",
       "A    147202\n",
       "B    147276\n",
       "Name: user_id, dtype: int64"
      ]
     },
     "metadata": {},
     "output_type": "display_data"
    },
    {
     "name": "stdout",
     "output_type": "stream",
     "text": [
      "\n",
      "Количество покупок в группах А и B:\n"
     ]
    },
    {
     "data": {
      "text/plain": [
       "group\n",
       "A    17723\n",
       "B    17514\n",
       "Name: purchase, dtype: int64"
      ]
     },
     "metadata": {},
     "output_type": "display_data"
    },
    {
     "name": "stdout",
     "output_type": "stream",
     "text": [
      "\n",
      "Сумма покупок в группах А и B:\n"
     ]
    },
    {
     "data": {
      "text/plain": [
       "group\n",
       "A    1436.26\n",
       "B    1554.10\n",
       "Name: price, dtype: float64"
      ]
     },
     "metadata": {},
     "output_type": "display_data"
    }
   ],
   "source": [
    "print('Количество посещений сайта в группах А и B:')\n",
    "display(data.groupby('group')['user_id'].agg('count'))\n",
    "print('\\nКоличество покупок в группах А и B:')\n",
    "display(data.groupby('group')['purchase'].agg('sum'))\n",
    "print('\\nСумма покупок в группах А и B:')\n",
    "display(data.groupby('group')['price'].agg('sum') / 1e6)"
   ]
  },
  {
   "cell_type": "markdown",
   "id": "5f690a67",
   "metadata": {
    "tags": []
   },
   "source": [
    "Проверяем, есть ли пользователи, которые в процессе **A/B-теста** попали в обе тестовые группы? Если да, то сколько таких уникальных пользователей, если нет - введите в поле для ответа 0?"
   ]
  },
  {
   "cell_type": "code",
   "execution_count": 6,
   "id": "57a2d711-057d-4f8b-9f56-df0f772d41c8",
   "metadata": {},
   "outputs": [
    {
     "name": "stdout",
     "output_type": "stream",
     "text": [
      "1895\n"
     ]
    }
   ],
   "source": [
    "a_data = data[data['group'] == 'A']\n",
    "b_data = data[data['group'] == 'B']\n",
    "user_intersection = set(a_data['user_id']).intersection(set(b_data['user_id']))\n",
    "print(len(user_intersection))"
   ]
  },
  {
   "cell_type": "markdown",
   "id": "7f6b9ec3",
   "metadata": {
    "tags": []
   },
   "source": [
    "### **Исключаем пользователей, оказавшихся в обеих группах**\n",
    "\n",
    "Так как мы не можем определить, какая из версий сайта повлияла на принятие решения, исключим этих пользователей. Далее мы будем работать только с очищенными от пересечений данными.\n",
    "\n",
    "Возможный вариант исключения пользователей:"
   ]
  },
  {
   "cell_type": "code",
   "execution_count": 7,
   "id": "f618b34b-35a3-4bf1-8d6d-38b3401930b7",
   "metadata": {},
   "outputs": [],
   "source": [
    "updated_data = data[data['user_id'].apply(lambda x: x not in user_intersection)]"
   ]
  },
  {
   "cell_type": "markdown",
   "id": "69a7922e",
   "metadata": {},
   "source": [
    "Где **user_intersection -** множество пересечений пользователей групп **А и B.**"
   ]
  },
  {
   "attachments": {
    "95f235d2-6323-4799-bf69-697fc57f727b.png": {
     "image/png": "[encoded data removed]"
    }
   },
   "cell_type": "markdown",
   "id": "d9bac69d",
   "metadata": {
    "tags": []
   },
   "source": [
    "### Для первичного анализа результатов A/B-тестирования нам понадобится таблица следующего вида:\n",
    "\n",
    "![image.png](attachment:95f235d2-6323-4799-bf69-697fc57f727b.png)\n",
    " \n",
    " \n",
    "### Сгруппируем данные по признаку группы. В каждой группе рассчитаем следующие показатели:\n",
    "\n",
    "* количество посещений (количество пользователей)\n",
    "* количество совершенных покупок\n",
    "* сумма всех покупок в группе\n",
    "\n",
    "В полученной сгруппированной таблице переименуем столбцы на **count_visits, count_purchases, sum_price**.\n",
    "\n",
    "Чему на этот раз равно количество посещений сайта в группах А и B?"
   ]
  },
  {
   "cell_type": "code",
   "execution_count": 9,
   "id": "5c0c018e-a250-48e9-b72a-e3c7be586ebd",
   "metadata": {},
   "outputs": [
    {
     "data": {
      "text/html": [
       "<div>\n",
       "<style scoped>\n",
       "    .dataframe tbody tr th:only-of-type {\n",
       "        vertical-align: middle;\n",
       "    }\n",
       "\n",
       "    .dataframe tbody tr th {\n",
       "        vertical-align: top;\n",
       "    }\n",
       "\n",
       "    .dataframe thead th {\n",
       "        text-align: right;\n",
       "    }\n",
       "</style>\n",
       "<table border=\"1\" class=\"dataframe\">\n",
       "  <thead>\n",
       "    <tr style=\"text-align: right;\">\n",
       "      <th></th>\n",
       "      <th>count_visits</th>\n",
       "      <th>count_purchases</th>\n",
       "      <th>sum_price</th>\n",
       "    </tr>\n",
       "    <tr>\n",
       "      <th>group</th>\n",
       "      <th></th>\n",
       "      <th></th>\n",
       "      <th></th>\n",
       "    </tr>\n",
       "  </thead>\n",
       "  <tbody>\n",
       "    <tr>\n",
       "      <th>A</th>\n",
       "      <td>145307</td>\n",
       "      <td>17487</td>\n",
       "      <td>1417780000</td>\n",
       "    </tr>\n",
       "    <tr>\n",
       "      <th>B</th>\n",
       "      <td>145381</td>\n",
       "      <td>17290</td>\n",
       "      <td>1533010000</td>\n",
       "    </tr>\n",
       "  </tbody>\n",
       "</table>\n",
       "</div>"
      ],
      "text/plain": [
       "       count_visits  count_purchases   sum_price\n",
       "group                                           \n",
       "A            145307            17487  1417780000\n",
       "B            145381            17290  1533010000"
      ]
     },
     "metadata": {},
     "output_type": "display_data"
    }
   ],
   "source": [
    "grouped = updated_data.groupby('group').agg({\n",
    "'user_id': 'count',\n",
    "'purchase': 'sum',\n",
    "'price': 'sum'\n",
    "}).rename(columns={\n",
    "'user_id': 'count_visits',\n",
    "'purchase': 'count_purchases',\n",
    "'price': 'sum_price'\n",
    "})\n",
    "display(grouped)"
   ]
  },
  {
   "cell_type": "markdown",
   "id": "c52b96fe",
   "metadata": {},
   "source": [
    "#### Промежуточные выводы. \n",
    "\n",
    "Сопоставимо ли количество посещений обоих вариантов посадочной странице, можно ли говорить о сбалансированности выборок?"
   ]
  },
  {
   "cell_type": "markdown",
   "id": "4ea1b65b-475e-4bff-9460-fac0acdb9620",
   "metadata": {},
   "source": [
    "Разница в количестве посещений на выбранном масштабе наблюдений крайне несущественна. Можно говорить о сбалансированности выборок."
   ]
  },
  {
   "cell_type": "markdown",
   "id": "d8bc46b9",
   "metadata": {
    "tags": []
   },
   "source": [
    "### Добавляем в сгруппированную таблицу столбцы;\n",
    "**conversion -** конверсия покупки (отношение количества покупок к количеству посещений сайта в каждой группе, выраженное в процентах) \n",
    "\n",
    "**mean_check -** средний чек (отношение суммы покупок к количеству покупок в каждой группе).\n",
    "\n",
    "* Чему равна конверсия в группах? Ответ приведим в процентах, например, 75.12 %\n",
    "* Чему равен средний чек в группах? Ответ приведим в рублях и округляемдо целых. Например, 120519 рублей."
   ]
  },
  {
   "cell_type": "code",
   "execution_count": 10,
   "id": "bd9c3b3e-5956-41a8-bae0-43693f6de1f2",
   "metadata": {},
   "outputs": [
    {
     "name": "stdout",
     "output_type": "stream",
     "text": [
      "Конверсия (в процентах) в группах А и B:\n"
     ]
    },
    {
     "data": {
      "text/plain": [
       "group\n",
       "A    12.03\n",
       "B    11.89\n",
       "Name: conversion, dtype: float64"
      ]
     },
     "metadata": {},
     "output_type": "display_data"
    },
    {
     "name": "stdout",
     "output_type": "stream",
     "text": [
      "\n",
      "Средний чек (в рублях) в группах А и B:\n"
     ]
    },
    {
     "data": {
      "text/plain": [
       "group\n",
       "A    81076.0\n",
       "B    88665.0\n",
       "Name: mean_check, dtype: float64"
      ]
     },
     "metadata": {},
     "output_type": "display_data"
    }
   ],
   "source": [
    "grouped['conversion'] = grouped['count_purchases']/grouped['count_visits'] * 100\n",
    "grouped['mean_check'] = grouped['sum_price']/grouped['count_purchases']\n",
    "print('Конверсия (в процентах) в группах А и B:')\n",
    "display(grouped['conversion'].round(2))\n",
    "print('\\nСредний чек (в рублях) в группах А и B:')\n",
    "display(grouped['mean_check'].round())"
   ]
  },
  {
   "cell_type": "markdown",
   "id": "9100cd56",
   "metadata": {},
   "source": [
    "#### Промежуточные выводы."
   ]
  },
  {
   "cell_type": "markdown",
   "id": "9e88c883-84f9-44ec-accd-04d5d459b261",
   "metadata": {},
   "source": [
    "Конверсия в контрольной версии выше, а значит она эффективнее по данной метрике. Однако, средний чек выше в тестовой версии, что говорит о готовности клентов тратить больше, используя сайт в новом дизайне."
   ]
  },
  {
   "cell_type": "markdown",
   "id": "af1d742b",
   "metadata": {
    "tags": []
   },
   "source": [
    "### Сравним варианты по покупательской способности туров. \n",
    "\n",
    "Для этого построим сводную таблицу, которая покажет зависимость количества продаж от группы и цены тура. "
   ]
  },
  {
   "cell_type": "code",
   "execution_count": 12,
   "id": "78d46a02-cc30-4783-9b18-9fc9c6a08012",
   "metadata": {},
   "outputs": [],
   "source": [
    "pivot = updated_data[updated_data['price'] > 0].pivot_table(\n",
    "    index='group', \n",
    "    columns='price', \n",
    "    values='purchase', \n",
    "    aggfunc='sum'\n",
    ")"
   ]
  },
  {
   "cell_type": "markdown",
   "id": "4b1a6eb5",
   "metadata": {},
   "source": [
    "Визуализируем полученную сводную таблицу с помощью тепловой карты. \n",
    "\n",
    "Чему равно количество проданных туров за 60000 рублей в группах?"
   ]
  },
  {
   "cell_type": "code",
   "execution_count": 13,
   "id": "f634fa8d-585c-42e3-b7d5-78e8d9eaa8c5",
   "metadata": {},
   "outputs": [
    {
     "data": {
      "image/png": "[encoded data removed]",
      "text/plain": [
       "<Figure size 720x288 with 2 Axes>"
      ]
     },
     "metadata": {
      "needs_background": "light"
     },
     "output_type": "display_data"
    }
   ],
   "source": [
    "fig = plt.figure(figsize=(10, 4))\n",
    "ax = sns.heatmap(pivot, fmt='.0f', annot=True, cmap='viridis');\n",
    "ax.set_title('Тепловая карта покупательской способности туров в группах');"
   ]
  },
  {
   "cell_type": "markdown",
   "id": "1b131c95",
   "metadata": {},
   "source": [
    "**Выводы.**\n",
    "\n",
    "В **контрольной группе** - покупательская способность существенно выше в турах в **Турцию.**\n",
    "\n",
    "В **тестовой группе** - покупательская способность существенно выше в турах в **Тайланд.**"
   ]
  },
  {
   "cell_type": "markdown",
   "id": "a4f3a817",
   "metadata": {
    "tags": []
   },
   "source": [
    "### Прежде, чем перейти к кумулятивным метрикам, нам необходимо построить таблицу с ежедневными данными результатов проведения - A/B-тестирования.\n",
    "\n",
    "Сгруппируем данные по дате и группе тестирования. \n",
    "\n",
    "В каждой группе вычислим количество посещений страницы, количество покупок и сумму покупок. \n",
    "\n",
    "Добавим в таблицу информацию о ежедневной конверсии (ежедневное количество покупок / ежедневное количество посещений) в группе и ежедневном среднем чеке (ежедневная сумма покупок / ежедневное количество покупок)\n",
    "\n",
    "* Чему равна конверсия 3 января 2021 года? Ответ приведём в процентах и округлим до сотых.\n",
    "\n",
    "* Чему равен средний чек 3 января 2021 года? Ответ приведёим в рублях и округлим до целого."
   ]
  },
  {
   "cell_type": "code",
   "execution_count": 14,
   "id": "4503b528-412e-433a-bc03-da7da52fa1a3",
   "metadata": {},
   "outputs": [
    {
     "name": "stdout",
     "output_type": "stream",
     "text": [
      "Конверсия 3 января 2020 года:\n"
     ]
    },
    {
     "data": {
      "text/html": [
       "<div>\n",
       "<style scoped>\n",
       "    .dataframe tbody tr th:only-of-type {\n",
       "        vertical-align: middle;\n",
       "    }\n",
       "\n",
       "    .dataframe tbody tr th {\n",
       "        vertical-align: top;\n",
       "    }\n",
       "\n",
       "    .dataframe thead th {\n",
       "        text-align: right;\n",
       "    }\n",
       "</style>\n",
       "<table border=\"1\" class=\"dataframe\">\n",
       "  <thead>\n",
       "    <tr style=\"text-align: right;\">\n",
       "      <th></th>\n",
       "      <th>group</th>\n",
       "      <th>conversion</th>\n",
       "    </tr>\n",
       "  </thead>\n",
       "  <tbody>\n",
       "    <tr>\n",
       "      <th>2</th>\n",
       "      <td>A</td>\n",
       "      <td>11.34</td>\n",
       "    </tr>\n",
       "    <tr>\n",
       "      <th>3</th>\n",
       "      <td>B</td>\n",
       "      <td>11.39</td>\n",
       "    </tr>\n",
       "  </tbody>\n",
       "</table>\n",
       "</div>"
      ],
      "text/plain": [
       "  group  conversion\n",
       "2     A       11.34\n",
       "3     B       11.39"
      ]
     },
     "metadata": {},
     "output_type": "display_data"
    },
    {
     "name": "stdout",
     "output_type": "stream",
     "text": [
      "Средний чек 3 января 2020 года:\n"
     ]
    },
    {
     "data": {
      "text/html": [
       "<div>\n",
       "<style scoped>\n",
       "    .dataframe tbody tr th:only-of-type {\n",
       "        vertical-align: middle;\n",
       "    }\n",
       "\n",
       "    .dataframe tbody tr th {\n",
       "        vertical-align: top;\n",
       "    }\n",
       "\n",
       "    .dataframe thead th {\n",
       "        text-align: right;\n",
       "    }\n",
       "</style>\n",
       "<table border=\"1\" class=\"dataframe\">\n",
       "  <thead>\n",
       "    <tr style=\"text-align: right;\">\n",
       "      <th></th>\n",
       "      <th>group</th>\n",
       "      <th>mean_check</th>\n",
       "    </tr>\n",
       "  </thead>\n",
       "  <tbody>\n",
       "    <tr>\n",
       "      <th>2</th>\n",
       "      <td>A</td>\n",
       "      <td>82888.0</td>\n",
       "    </tr>\n",
       "    <tr>\n",
       "      <th>3</th>\n",
       "      <td>B</td>\n",
       "      <td>87480.0</td>\n",
       "    </tr>\n",
       "  </tbody>\n",
       "</table>\n",
       "</div>"
      ],
      "text/plain": [
       "  group  mean_check\n",
       "2     A     82888.0\n",
       "3     B     87480.0"
      ]
     },
     "metadata": {},
     "output_type": "display_data"
    }
   ],
   "source": [
    "daily_data = updated_data.groupby(['date', 'group']).agg({\n",
    "    'user_id':'count',\n",
    "    'purchase':'sum',\n",
    "    'price': 'sum'\n",
    "}).reset_index().rename(columns={\n",
    "    'user_id': 'count_visits',\n",
    "    'purchase': 'count_purchases',\n",
    "    'price': 'sum_price'\n",
    "})\n",
    "daily_data['conversion'] = daily_data['count_purchases']/daily_data['count_visits'] * 100\n",
    "daily_data['mean_check'] = daily_data['sum_price']/daily_data['count_purchases']\n",
    "\n",
    "print('Конверсия 3 января 2020 года:')\n",
    "display(daily_data[daily_data['date'] == pd.to_datetime('2021-01-03')][['group', 'conversion']].round(2))\n",
    " \n",
    "print('Средний чек 3 января 2020 года:')\n",
    "display(daily_data[daily_data['date'] == pd.to_datetime('2021-01-03')][['group', 'mean_check']].round())"
   ]
  },
  {
   "cell_type": "markdown",
   "id": "4d59dd52",
   "metadata": {},
   "source": [
    "### Добавляем в таблицу с ежедневными показателями кумулятивные признаки:\n",
    "* кумулятивное количество посещений страницы\n",
    "* кумулятивное количество покупок\n",
    "* кумулятивную сумму покупок\n",
    "\n",
    "При расчете кумулятивной суммы сгруппируем данные по группам. \n",
    "\n",
    "Вычисляем кумулятивную конверсию и кумулятивный средний чек на основе полученных кумулятивных показателей. \n",
    "\n",
    "* Какая **кумулятивная** конверсия была в группе B на 20 января? Ответ приведим в процентах, округлив до сотых.\n",
    "* Какой **кумулятивный** средний чек был в группе А на 12 января 2021 года? Ответ приведим в рублях, округлив до целых."
   ]
  },
  {
   "cell_type": "code",
   "execution_count": 15,
   "id": "afe59f9a-8d39-45c1-a14f-9f62091d81a1",
   "metadata": {},
   "outputs": [
    {
     "name": "stdout",
     "output_type": "stream",
     "text": [
      "Кумулятивная конверсия 20 января 2020 года:\n"
     ]
    },
    {
     "data": {
      "text/html": [
       "<div>\n",
       "<style scoped>\n",
       "    .dataframe tbody tr th:only-of-type {\n",
       "        vertical-align: middle;\n",
       "    }\n",
       "\n",
       "    .dataframe tbody tr th {\n",
       "        vertical-align: top;\n",
       "    }\n",
       "\n",
       "    .dataframe thead th {\n",
       "        text-align: right;\n",
       "    }\n",
       "</style>\n",
       "<table border=\"1\" class=\"dataframe\">\n",
       "  <thead>\n",
       "    <tr style=\"text-align: right;\">\n",
       "      <th></th>\n",
       "      <th>group</th>\n",
       "      <th>cum_conversion</th>\n",
       "    </tr>\n",
       "  </thead>\n",
       "  <tbody>\n",
       "    <tr>\n",
       "      <th>36</th>\n",
       "      <td>A</td>\n",
       "      <td>11.98</td>\n",
       "    </tr>\n",
       "    <tr>\n",
       "      <th>37</th>\n",
       "      <td>B</td>\n",
       "      <td>11.90</td>\n",
       "    </tr>\n",
       "  </tbody>\n",
       "</table>\n",
       "</div>"
      ],
      "text/plain": [
       "   group  cum_conversion\n",
       "36     A           11.98\n",
       "37     B           11.90"
      ]
     },
     "metadata": {},
     "output_type": "display_data"
    },
    {
     "name": "stdout",
     "output_type": "stream",
     "text": [
      "Кумулятивный средний чек на 12 января 2020 года:\n"
     ]
    },
    {
     "data": {
      "text/html": [
       "<div>\n",
       "<style scoped>\n",
       "    .dataframe tbody tr th:only-of-type {\n",
       "        vertical-align: middle;\n",
       "    }\n",
       "\n",
       "    .dataframe tbody tr th {\n",
       "        vertical-align: top;\n",
       "    }\n",
       "\n",
       "    .dataframe thead th {\n",
       "        text-align: right;\n",
       "    }\n",
       "</style>\n",
       "<table border=\"1\" class=\"dataframe\">\n",
       "  <thead>\n",
       "    <tr style=\"text-align: right;\">\n",
       "      <th></th>\n",
       "      <th>group</th>\n",
       "      <th>cum_mean_check</th>\n",
       "    </tr>\n",
       "  </thead>\n",
       "  <tbody>\n",
       "    <tr>\n",
       "      <th>20</th>\n",
       "      <td>A</td>\n",
       "      <td>81492.0</td>\n",
       "    </tr>\n",
       "    <tr>\n",
       "      <th>21</th>\n",
       "      <td>B</td>\n",
       "      <td>88352.0</td>\n",
       "    </tr>\n",
       "  </tbody>\n",
       "</table>\n",
       "</div>"
      ],
      "text/plain": [
       "   group  cum_mean_check\n",
       "20     A         81492.0\n",
       "21     B         88352.0"
      ]
     },
     "metadata": {},
     "output_type": "display_data"
    }
   ],
   "source": [
    "# считаем кумулятивное количество посещений страницы\n",
    "daily_data['cum_count_visits'] = daily_data.groupby('group')['count_visits'].cumsum()\n",
    "# считаем кумулятивное количество покупок \n",
    "daily_data['cum_count_purchases'] = daily_data.groupby('group')['count_purchases'].cumsum()\n",
    "# считаем кумулятивную сумму покупок\n",
    "daily_data['cum_sum_price'] = daily_data.groupby('group')['sum_price'].cumsum()\n",
    "# считаем кумулятивную конверсию\n",
    "daily_data['cum_conversion'] = daily_data['cum_count_purchases']/daily_data['cum_count_visits'] * 100\n",
    "# считаем кумулятивный средний чек\n",
    "daily_data['cum_mean_check'] = daily_data['cum_sum_price']/daily_data['cum_count_purchases']\n",
    " \n",
    "print('Кумулятивная конверсия 20 января 2020 года:')\n",
    "display(daily_data[daily_data['date'] == pd.to_datetime('2021-01-20')][['group', 'cum_conversion']].round(2))\n",
    "print('Кумулятивный средний чек на 12 января 2020 года:')\n",
    "display(daily_data[daily_data['date'] == pd.to_datetime('2021-01-12')][['group', 'cum_mean_check']].round())"
   ]
  },
  {
   "cell_type": "markdown",
   "id": "afa72cde",
   "metadata": {},
   "source": [
    "### Строим кумулятивные графики конверсии и среднего чека в каждой группе по дням.\n",
    "\n",
    "Можно ли назвать A/B-тест завершенным - стабилизировались ли значения метрик во времени? \n",
    "\n",
    "Как соотносятся кумулятивные показатели в каждой группе?"
   ]
  },
  {
   "cell_type": "code",
   "execution_count": 16,
   "id": "27e23d20-7ed6-4a26-973d-6d0320b81adb",
   "metadata": {},
   "outputs": [
    {
     "data": {
      "image/png": "[encoded data removed]",
      "text/plain": [
       "<Figure size 1080x360 with 2 Axes>"
      ]
     },
     "metadata": {
      "needs_background": "light"
     },
     "output_type": "display_data"
    }
   ],
   "source": [
    "# создаем фигуру размером 15x5\n",
    "fig, axes= plt.subplots(1, 2, figsize=(15, 5))\n",
    "# строим lineplot для кумулятивной конверсии во времени в каждой группе\n",
    "sns.lineplot(x='date', y='cum_conversion', data=daily_data, hue='group', ax=axes[0])\n",
    "# строим lineplot для кумулятивного среднего чека во времени в каждой группе\n",
    "sns.lineplot(x='date', y='cum_mean_check', data=daily_data, hue='group', ax=axes[1])\n",
    "# задаем подпись к графику\n",
    "axes[0].set_title('График кумулятивной конверсии по дням')\n",
    "axes[1].set_title('График кумулятивного среднего чека по дням')\n",
    "# задаем поворот меток на оси абсцисс\n",
    "axes[0].xaxis.set_tick_params(rotation = 45)\n",
    "axes[1].xaxis.set_tick_params(rotation = 45)\n",
    "# задаем отображение сетки\n",
    "axes[0].grid(True);\n",
    "axes[1].grid(True);"
   ]
  },
  {
   "cell_type": "markdown",
   "id": "3bab3699",
   "metadata": {},
   "source": [
    "На графиках видно, что линии значения метрик становятся ровнее, похожими на прямые. А значит можно утверждать о стабилизации.\n",
    "При этом важно отметить следующее:\n",
    "\n",
    "* кумулятивные показатели конверсии демонстрируют крайне малую разницу, что говорит об их равнозначности\n",
    "* кумулятивный показатель среднего чека при этом выше в **тестовой группе,**  а значит по данной метрике новый дизайн сайта эффективнее."
   ]
  },
  {
   "cell_type": "markdown",
   "id": "30ed0775",
   "metadata": {
    "tags": []
   },
   "source": [
    "### Переходим к проверке статистической значимости разницы между метриками в группах. Начнем с конверсии.\n",
    "Проведём тестирование при  нулевой и альтернативной гипотезе:\n",
    "\n",
    "* $H_0$: Конверсии в группах А и B равны; \n",
    "* $H_1$: Конверсия в группе А больше чем конверсия в группе B;\n",
    "\n",
    "Вычислим **p-value** теста для конверсий в группах - **А и B.** \n",
    "\n",
    "Сравним полученное значение **p-value** с уровнем значимости **$\\alpha$=0.05.** "
   ]
  },
  {
   "cell_type": "code",
   "execution_count": 17,
   "id": "9dd1f6fd-2fa0-4a2f-8181-dbed4c302bce",
   "metadata": {},
   "outputs": [
    {
     "data": {
      "text/html": [
       "<div>\n",
       "<style scoped>\n",
       "    .dataframe tbody tr th:only-of-type {\n",
       "        vertical-align: middle;\n",
       "    }\n",
       "\n",
       "    .dataframe tbody tr th {\n",
       "        vertical-align: top;\n",
       "    }\n",
       "\n",
       "    .dataframe thead th {\n",
       "        text-align: right;\n",
       "    }\n",
       "</style>\n",
       "<table border=\"1\" class=\"dataframe\">\n",
       "  <thead>\n",
       "    <tr style=\"text-align: right;\">\n",
       "      <th></th>\n",
       "      <th>sum</th>\n",
       "      <th>count</th>\n",
       "    </tr>\n",
       "    <tr>\n",
       "      <th>group</th>\n",
       "      <th></th>\n",
       "      <th></th>\n",
       "    </tr>\n",
       "  </thead>\n",
       "  <tbody>\n",
       "    <tr>\n",
       "      <th>A</th>\n",
       "      <td>17723</td>\n",
       "      <td>147202</td>\n",
       "    </tr>\n",
       "    <tr>\n",
       "      <th>B</th>\n",
       "      <td>17514</td>\n",
       "      <td>147276</td>\n",
       "    </tr>\n",
       "  </tbody>\n",
       "</table>\n",
       "</div>"
      ],
      "text/plain": [
       "         sum   count\n",
       "group               \n",
       "A      17723  147202\n",
       "B      17514  147276"
      ]
     },
     "metadata": {},
     "output_type": "display_data"
    },
    {
     "name": "stdout",
     "output_type": "stream",
     "text": [
      "p-value:  0.11\n",
      "Принимаем нулевую гипотезу. Конверсии в группах А и B равны\n"
     ]
    }
   ],
   "source": [
    "# считаем количество успехов и наблюдений в каждой из групп\n",
    "converted_piv= data.groupby('group')['purchase'].agg(\n",
    "    ['sum', 'count']\n",
    ")\n",
    "display(converted_piv)\n",
    "# нулевая и альтернативная гипотезы\n",
    "H0 = 'Конверсии в группах А и B равны'\n",
    "H1 = 'Конверсия в группе А больше чем конверсия в группе B'\n",
    "alpha = 0.05 # уровень значимости\n",
    "#вычисляем значение p-value для z-теста для пропорций\n",
    "_, p_value = proportions_ztest(\n",
    "    count=converted_piv['sum'], #число \"успехов\"\n",
    "    nobs=converted_piv['count'], #общее число наблюдений\n",
    "    alternative='larger'\n",
    ")\n",
    "#выводим результат на экран\n",
    "print('p-value: ', round(p_value, 2))\n",
    "#сравниваем полученное p-value с уровнем значимости\n",
    "if (p_value < alpha): \n",
    "    print(\"Отвергаем нулевую гипотезу. {}\".format(H0))\n",
    "    print(\"Альтернативная гипотеза. H1: {}\".format(H1))\n",
    "else:\n",
    "    print(\"Принимаем нулевую гипотезу. {}\".format(H0))"
   ]
  },
  {
   "cell_type": "markdown",
   "id": "8d094918",
   "metadata": {},
   "source": [
    "Выводы по результатам проведенного статистического теста:\n",
    "\n",
    "Есть ли **статистическая разница** между конверсиями в **группах - А и B?**\n",
    "\n",
    "Статистической разницы между конверсиями нет."
   ]
  },
  {
   "cell_type": "markdown",
   "id": "fcc6a0a5",
   "metadata": {
    "tags": []
   },
   "source": [
    "### Убеждаемся в выводах, построив 95%-ый доверительный интервал для конверсий и разницы между ними. \n",
    "\n",
    "Используем - **$z_{крит}$** в своих расчетах\n",
    "\n",
    "Укажим нижнюю и верхнюю границы доверительных интервалов. Границы приведим в процентах и округлив до 2 знака после запятой. "
   ]
  },
  {
   "cell_type": "code",
   "execution_count": 20,
   "id": "e9decb7d-ff5e-40a6-8b71-63627c4ef64a",
   "metadata": {},
   "outputs": [
    {
     "name": "stdout",
     "output_type": "stream",
     "text": [
      "Доверительный интервал для конверсии группы А: (11.87, 12.2)\n",
      "Доверительный интервал для конверсии группы B: (11.73, 12.06)\n",
      "Доверительный интервал для разности конверсий: (-0.38, 0.09)\n"
     ]
    }
   ],
   "source": [
    "def conversion_conf_interval(n, x_p, gamma=0.95):\n",
    "    alpha = 1 - gamma # уровень значимости\n",
    "    z_crit = -norm.ppf(alpha/2) # z критическое\n",
    "    eps = z_crit * (x_p * (1 - x_p) / n) ** 0.5 #погрешность\n",
    "    lower_bound = x_p - eps # левая (нижняя) граница\n",
    "    upper_bound = x_p + eps # правая (верхняя) граница\n",
    "    # возвращаем кортеж из округленных границ интервала\n",
    "    return round(lower_bound * 100, 2), round(upper_bound * 100, 2)\n",
    "\n",
    "a_data = updated_data[updated_data['group'] == 'A']\n",
    "b_data = updated_data[updated_data['group'] == 'B']\n",
    "conf_interval_a = conversion_conf_interval(\n",
    "a_data['user_id'].count(), # размер выборки\n",
    "a_data['purchase'].mean() # выборочная пропорция\n",
    ")\n",
    "conf_interval_b = conversion_conf_interval(\n",
    "b_data['user_id'].count(), # размер выборки\n",
    "b_data['purchase'].mean() # выборочная пропорция\n",
    ")\n",
    "print('Доверительный интервал для конверсии группы А: {}'.format(conf_interval_a))\n",
    "print('Доверительный интервал для конверсии группы B: {}'.format(conf_interval_b))\n",
    "\n",
    "def diff_conversion_conf_interval(n, xp, gamma=0.95):\n",
    "    alpha = 1 - gamma # уровень значимости\n",
    "    diff = xp[1] - xp[0] # выборочная разница конверсий групп B и A\n",
    "    z_crit = -norm.ppf(alpha/2) #z критическое\n",
    "    eps = z_crit * (xp[0] * (1 - xp[0])/n[0] + xp[1] * (1 - xp[1])/n[1]) ** 0.5 # погрешность\n",
    "    lower_bound = diff - eps # левая (нижняя) граница\n",
    "    upper_bound = diff + eps # правая (верхняя) граница\n",
    "    # возвращаем кортеж из округленных границ интервала\n",
    "    return round(lower_bound *100, 2), round(upper_bound * 100, 2)\n",
    "\n",
    "# размеры выборок групп А и B\n",
    "n = [a_data['user_id'].count(), b_data['user_id'].count()]\n",
    "# выборочная пропорция групп A и B\n",
    "xp = [a_data['purchase'].mean(), b_data['purchase'].mean()]\n",
    "\n",
    "# строим доверительный интервал для разности\n",
    "diff_inverval = diff_conversion_conf_interval(n, xp)\n",
    "print('Доверительный интервал для разности конверсий: {}'.format(diff_inverval)) #выводим результат"
   ]
  },
  {
   "cell_type": "markdown",
   "id": "6408b588",
   "metadata": {},
   "source": [
    "#### Проинтерпретируем построенные доверительные интервалы для конверсий в группах А и В. \n",
    "* Есть ли перекрытие между доверительными интервалами для групп? \n",
    "* Есть ли статистическая разница между конверсиями в группах А и B?"
   ]
  },
  {
   "cell_type": "markdown",
   "id": "38a260b1",
   "metadata": {},
   "source": [
    "Имеется перекрытие доверительных интервалов, а разность конверсий захватывает значение \"0\", что подтверждает отсутствие статистической разницы."
   ]
  },
  {
   "cell_type": "markdown",
   "id": "857cfa99",
   "metadata": {},
   "source": [
    "### Ранее  построили таблицу с ежедневными показателями. Теперь она нам снова понадобится, так как нас интересует ежедневный средний чек.\n",
    "\n",
    "Проверяем гипотезу о нормальности распределения ежедневного среднего чека в каждой из групп тестирования. \n",
    "\n",
    "* Применим тест  **Шапиро-Уилка** -  для проверки гипотезы о нормальности распределения ежедневного среднего чека.\n",
    "* Смотрим на нулевую и альтернативную гипотезы.\n",
    "* Статистический тест с уровнем значимости $\\alpha$ =0.05."
   ]
  },
  {
   "cell_type": "code",
   "execution_count": 21,
   "id": "898041ae-de7e-4b74-975e-111d494fbb82",
   "metadata": {},
   "outputs": [
    {
     "name": "stdout",
     "output_type": "stream",
     "text": [
      "p-value группы А 0.25\n",
      "p-value группы B 0.09\n",
      "Принимаем нулевую гипотезу. Распределения в обеих группах нормальные\n"
     ]
    }
   ],
   "source": [
    "# нулевая и альтернативная гипотезы\n",
    "H0 = 'Распределения в обеих группах нормальные'\n",
    "H1 = 'Распределение в одной или обеих группах отлично от нормального'\n",
    "alpha = 0.05 # уровень значимости\n",
    " \n",
    "daily_data_a = daily_data[daily_data['group'] == 'A']\n",
    "daily_data_b = daily_data[daily_data['group'] == 'B']\n",
    " \n",
    "# вычисляем результат теста Шапиро-Уилка для выборок\n",
    "shapiro_result_a = shapiro(daily_data_a['mean_check'])\n",
    "shapiro_result_b = shapiro(daily_data_b['mean_check'])\n",
    "print('p-value группы А', round(shapiro_result_a.pvalue, 2))\n",
    "print('p-value группы B', round(shapiro_result_b.pvalue, 2))\n",
    "# сравниваем полученное p-value с уровнем значимости\n",
    "if shapiro_result_a.pvalue < alpha or shapiro_result_b.pvalue < alpha:\n",
    "    print(\"Отвергаем нулевую гипотезу. {}\".format(H0))\n",
    "    print(\"Альтернативная гипотеза. H1: {}\".format(H1))\n",
    "else:\n",
    "    print(\"Принимаем нулевую гипотезу. {}\".format(H0))"
   ]
  },
  {
   "cell_type": "markdown",
   "id": "35899380",
   "metadata": {
    "tags": []
   },
   "source": [
    "### Cравним варианты дизайна страницы по метрике среднего чека. \n",
    "\n",
    "Применим **T-тест** - для проверки гипотезы о равенстве средних чеков по дням в группах.\n",
    "\n",
    "Проведём тестирование при следующих нулевой и альтернативной гипотезе:\n",
    "\n",
    "* $H_0$: Ежедневные средние чеки в группах А и B равны; \n",
    "* $H_1$: Ежедневный средний чек в группе А меньше чем в группе B;\n",
    "\n",
    "Вычислим **p-value** - вашего теста для ежедневного среднего чека в группах А и B. \n",
    "\n",
    "Сравним полученное значение **p-value** - с уровнем значимости - **$\\alpha$ =0.05.** "
   ]
  },
  {
   "cell_type": "code",
   "execution_count": 22,
   "id": "05d43f23-2c2d-4795-bb96-1ffbfe81c391",
   "metadata": {},
   "outputs": [
    {
     "name": "stdout",
     "output_type": "stream",
     "text": [
      "p-value: 0.0\n",
      "Отвергаем нулевую гипотезу. Ежедневные средние чеки в группах А и B равны\n",
      "Альтернативная гипотеза. H1: Ежедневный средний чек в группе А меньше чем в группе B\n"
     ]
    }
   ],
   "source": [
    "# нулевая и альтернативная гипотезы\n",
    "H0 = 'Ежедневные средние чеки в группах А и B равны'\n",
    "H1 = 'Ежедневный средний чек в группе А меньше чем в группе B'\n",
    "alpha = 0.05 #уровень значимости\n",
    " \n",
    "daily_data_a = daily_data[daily_data['group'] == 'A']\n",
    "daily_data_b = daily_data[daily_data['group'] == 'B']\n",
    " \n",
    "#вычисляем результат T-теста для выборок\n",
    "results = ttest_ind(\n",
    "    daily_data_a['mean_check'],\n",
    "    daily_data_b['mean_check'],\n",
    "    alternative='less'\n",
    ")\n",
    "print('p-value:', round(results.pvalue, 2))\n",
    " \n",
    "if results.pvalue < alpha:\n",
    "    print(\"Отвергаем нулевую гипотезу. {}\".format(H0))\n",
    "    print(\"Альтернативная гипотеза. H1: {}\".format(H1))\n",
    "else:\n",
    "    print(\"Принимаем нулевую гипотезу. {}\".format(H0))"
   ]
  },
  {
   "cell_type": "markdown",
   "id": "b4e2d197",
   "metadata": {},
   "source": [
    "**Выводы по статистическому тесту.** \n",
    "\n",
    "Есть ли статистическая разница между ежедневными средними чеками в группах А и B?"
   ]
  },
  {
   "cell_type": "markdown",
   "id": "ce331b8d",
   "metadata": {},
   "source": [
    "Статистическая разница явно имеется."
   ]
  },
  {
   "cell_type": "markdown",
   "id": "20ec513c",
   "metadata": {
    "tags": []
   },
   "source": [
    "### Построим 95%-ый доверительный интервал для среднего чека в каждой группе. \n",
    "\n",
    "Так как выборка средних чеков небольшая, используем  **$t_{крит}$** в своих расчетах.\n",
    "\n",
    "Укажим нижнюю границу доверительного интервала для истинного среднего чека каждой из групп. Ответ приведём в процентах и округлим до целого."
   ]
  },
  {
   "cell_type": "code",
   "execution_count": 23,
   "id": "480430db-ffae-4aad-8e22-f5c70d4800b8",
   "metadata": {},
   "outputs": [
    {
     "name": "stdout",
     "output_type": "stream",
     "text": [
      "Доверительный интервал для среднего чека группы А: (79630, 82308)\n",
      "Доверительный интервал для среднего чека группы B: (87626, 89526)\n"
     ]
    }
   ],
   "source": [
    "def mean_check_conf_interval(n, x_mean, x_std, gamma=0.95):\n",
    "    k = n - 1 #число степеней свободы\n",
    "    alpha = 1 - gamma # уровень значимости\n",
    "    t_crit = -t.ppf(alpha/2, k) # t критическое\n",
    "    eps = t_crit * x_std / n**0.5 #погрешность\n",
    "    lower_bound = x_mean - eps # левая (нижняя) граница\n",
    "    upper_bound = x_mean + eps # правая (верхняя) граница\n",
    "    # возвращаем кортеж из округленных границ интервала\n",
    "    return round(lower_bound), round(upper_bound)\n",
    " \n",
    "a_daily_data = daily_data[daily_data['group'] == 'A']\n",
    "b_daily_data = daily_data[daily_data['group'] == 'B']\n",
    " \n",
    "params_a = {\n",
    "    'n': a_daily_data['count_visits'].count(), # размер выборки\n",
    "    'x_mean': a_daily_data['mean_check'].mean(), # выборочное средние\n",
    "    'x_std': a_daily_data['mean_check'].std() # выборочное стандартное отклонения\n",
    "}\n",
    "params_b = {\n",
    "    'n': b_daily_data['count_visits'].count(),# размер выборки\n",
    "    'x_mean': b_daily_data['mean_check'].mean(), # выборочное средние\n",
    "    'x_std': b_daily_data['mean_check'].std() # выборочное стандартное отклонения\n",
    "}\n",
    " \n",
    "print('Доверительный интервал для среднего чека группы А: {}'.format(mean_check_conf_interval(**params_a))) \n",
    "print('Доверительный интервал для среднего чека группы B: {}'.format(mean_check_conf_interval(**params_b)))"
   ]
  },
  {
   "cell_type": "markdown",
   "id": "a8838c07",
   "metadata": {},
   "source": [
    "Построенные доверительные интервалы для ежедневных средних чеков в группах. Есть ли между ними пересечения?"
   ]
  },
  {
   "cell_type": "markdown",
   "id": "8b5f0781",
   "metadata": {},
   "source": [
    "Пересечение доверительных интервалов отсутствует, а значит подтверждается гипотеза о наличии статистической разницы."
   ]
  },
  {
   "cell_type": "markdown",
   "id": "47cf8845",
   "metadata": {
    "tags": []
   },
   "source": [
    "### **Oбщий вывод по результатам A/B-теста**\n",
    "\n",
    "Какой варианта дизайна посадочной страницы является более эффективным в комплексе по метрикам конверсии и среднего чека и почему? "
   ]
  },
  {
   "cell_type": "markdown",
   "id": "1c50bf36",
   "metadata": {},
   "source": [
    "**Pекомендация** - внедрение нового дизайна сайта и его посадочных страниц, так как при той же конверсии средний чек становится выше. \n",
    "\n",
    "Но данное решение нужно принимать только после оценки эффекта с точки зрения затрат на внедрение и конечной выгоды. \n",
    "\n",
    "Иными словами, дополнительный доход должен быть существенно выше понесённых на модернизацию затрат."
   ]
  },
  {
   "cell_type": "code",
   "execution_count": null,
   "id": "f2919cb6",
   "metadata": {},
   "outputs": [],
   "source": []
  }
 ],
 "metadata": {
  "kernelspec": {
   "display_name": "Python 3 (ipykernel)",
   "language": "python",
   "name": "python3"
  },
  "language_info": {
   "codemirror_mode": {
    "name": "ipython",
    "version": 3
   },
   "file_extension": ".py",
   "mimetype": "text/x-python",
   "name": "python",
   "nbconvert_exporter": "python",
   "pygments_lexer": "ipython3",
   "version": "3.9.7"
  },
  "vscode": {
   "interpreter": {
    "hash": "611f72dce2680478b63cff690f1b31c93fe70ec400b4c79237c69a5b15d56895"
   }
  }
 },
 "nbformat": 4,
 "nbformat_minor": 5
}
